{
 "cells": [
  {
   "cell_type": "code",
   "execution_count": 1,
   "metadata": {},
   "outputs": [
    {
     "name": "stdout",
     "output_type": "stream",
     "text": [
      "Requirement already satisfied: mlflow in /usr/local/Caskroom/miniconda/base/envs/DS_Python_conda_env/lib/python3.10/site-packages (2.6.0)\n",
      "Requirement already satisfied: protobuf<5,>=3.12.0 in /usr/local/Caskroom/miniconda/base/envs/DS_Python_conda_env/lib/python3.10/site-packages (from mlflow) (3.20.3)\n",
      "Requirement already satisfied: packaging<24 in /usr/local/Caskroom/miniconda/base/envs/DS_Python_conda_env/lib/python3.10/site-packages (from mlflow) (23.0)\n",
      "Requirement already satisfied: pyyaml<7,>=5.1 in /usr/local/Caskroom/miniconda/base/envs/DS_Python_conda_env/lib/python3.10/site-packages (from mlflow) (6.0.1)\n",
      "Requirement already satisfied: sqlalchemy<3,>=1.4.0 in /usr/local/Caskroom/miniconda/base/envs/DS_Python_conda_env/lib/python3.10/site-packages (from mlflow) (2.0.20)\n",
      "Requirement already satisfied: gunicorn<22 in /usr/local/Caskroom/miniconda/base/envs/DS_Python_conda_env/lib/python3.10/site-packages (from mlflow) (21.2.0)\n",
      "Requirement already satisfied: entrypoints<1 in /usr/local/Caskroom/miniconda/base/envs/DS_Python_conda_env/lib/python3.10/site-packages (from mlflow) (0.4)\n",
      "Requirement already satisfied: cloudpickle<3 in /usr/local/Caskroom/miniconda/base/envs/DS_Python_conda_env/lib/python3.10/site-packages (from mlflow) (2.2.1)\n",
      "Requirement already satisfied: importlib-metadata!=4.7.0,<7,>=3.7.0 in /usr/local/Caskroom/miniconda/base/envs/DS_Python_conda_env/lib/python3.10/site-packages (from mlflow) (6.8.0)\n",
      "Requirement already satisfied: matplotlib<4 in /usr/local/Caskroom/miniconda/base/envs/DS_Python_conda_env/lib/python3.10/site-packages (from mlflow) (3.7.1)\n",
      "Requirement already satisfied: Flask<3 in /usr/local/Caskroom/miniconda/base/envs/DS_Python_conda_env/lib/python3.10/site-packages (from mlflow) (2.3.3)\n",
      "Requirement already satisfied: alembic!=1.10.0,<2 in /usr/local/Caskroom/miniconda/base/envs/DS_Python_conda_env/lib/python3.10/site-packages (from mlflow) (1.12.0)\n",
      "Requirement already satisfied: pyarrow<13,>=4.0.0 in /usr/local/Caskroom/miniconda/base/envs/DS_Python_conda_env/lib/python3.10/site-packages (from mlflow) (12.0.1)\n",
      "Requirement already satisfied: Jinja2<4,>=2.11 in /usr/local/Caskroom/miniconda/base/envs/DS_Python_conda_env/lib/python3.10/site-packages (from mlflow) (3.1.2)\n",
      "Requirement already satisfied: pandas<3 in /usr/local/Caskroom/miniconda/base/envs/DS_Python_conda_env/lib/python3.10/site-packages (from mlflow) (1.5.3)\n",
      "Requirement already satisfied: click<9,>=7.0 in /usr/local/Caskroom/miniconda/base/envs/DS_Python_conda_env/lib/python3.10/site-packages (from mlflow) (8.1.7)\n",
      "Requirement already satisfied: databricks-cli<1,>=0.8.7 in /usr/local/Caskroom/miniconda/base/envs/DS_Python_conda_env/lib/python3.10/site-packages (from mlflow) (0.17.7)\n",
      "Requirement already satisfied: docker<7,>=4.0.0 in /usr/local/Caskroom/miniconda/base/envs/DS_Python_conda_env/lib/python3.10/site-packages (from mlflow) (6.1.3)\n",
      "Requirement already satisfied: gitpython<4,>=2.1.0 in /usr/local/Caskroom/miniconda/base/envs/DS_Python_conda_env/lib/python3.10/site-packages (from mlflow) (3.1.33)\n",
      "Requirement already satisfied: requests<3,>=2.17.3 in /usr/local/Caskroom/miniconda/base/envs/DS_Python_conda_env/lib/python3.10/site-packages (from mlflow) (2.29.0)\n",
      "Requirement already satisfied: pytz<2024 in /usr/local/Caskroom/miniconda/base/envs/DS_Python_conda_env/lib/python3.10/site-packages (from mlflow) (2022.7)\n",
      "Requirement already satisfied: querystring-parser<2 in /usr/local/Caskroom/miniconda/base/envs/DS_Python_conda_env/lib/python3.10/site-packages (from mlflow) (1.2.4)\n",
      "Requirement already satisfied: sqlparse<1,>=0.4.0 in /usr/local/Caskroom/miniconda/base/envs/DS_Python_conda_env/lib/python3.10/site-packages (from mlflow) (0.4.4)\n",
      "Requirement already satisfied: numpy<2 in /usr/local/Caskroom/miniconda/base/envs/DS_Python_conda_env/lib/python3.10/site-packages (from mlflow) (1.24.3)\n",
      "Requirement already satisfied: scikit-learn<2 in /usr/local/Caskroom/miniconda/base/envs/DS_Python_conda_env/lib/python3.10/site-packages (from mlflow) (1.2.2)\n",
      "Requirement already satisfied: markdown<4,>=3.3 in /usr/local/Caskroom/miniconda/base/envs/DS_Python_conda_env/lib/python3.10/site-packages (from mlflow) (3.4.1)\n",
      "Requirement already satisfied: scipy<2 in /usr/local/Caskroom/miniconda/base/envs/DS_Python_conda_env/lib/python3.10/site-packages (from mlflow) (1.10.1)\n",
      "Requirement already satisfied: typing-extensions>=4 in /usr/local/Caskroom/miniconda/base/envs/DS_Python_conda_env/lib/python3.10/site-packages (from alembic!=1.10.0,<2->mlflow) (4.5.0)\n",
      "Requirement already satisfied: Mako in /usr/local/Caskroom/miniconda/base/envs/DS_Python_conda_env/lib/python3.10/site-packages (from alembic!=1.10.0,<2->mlflow) (1.2.4)\n",
      "Requirement already satisfied: oauthlib>=3.1.0 in /usr/local/Caskroom/miniconda/base/envs/DS_Python_conda_env/lib/python3.10/site-packages (from databricks-cli<1,>=0.8.7->mlflow) (3.2.2)\n",
      "Requirement already satisfied: urllib3<2.0.0,>=1.26.7 in /usr/local/Caskroom/miniconda/base/envs/DS_Python_conda_env/lib/python3.10/site-packages (from databricks-cli<1,>=0.8.7->mlflow) (1.26.15)\n",
      "Requirement already satisfied: tabulate>=0.7.7 in /usr/local/Caskroom/miniconda/base/envs/DS_Python_conda_env/lib/python3.10/site-packages (from databricks-cli<1,>=0.8.7->mlflow) (0.9.0)\n",
      "Requirement already satisfied: pyjwt>=1.7.0 in /usr/local/Caskroom/miniconda/base/envs/DS_Python_conda_env/lib/python3.10/site-packages (from databricks-cli<1,>=0.8.7->mlflow) (2.4.0)\n",
      "Requirement already satisfied: six>=1.10.0 in /usr/local/Caskroom/miniconda/base/envs/DS_Python_conda_env/lib/python3.10/site-packages (from databricks-cli<1,>=0.8.7->mlflow) (1.16.0)\n",
      "Requirement already satisfied: websocket-client>=0.32.0 in /usr/local/Caskroom/miniconda/base/envs/DS_Python_conda_env/lib/python3.10/site-packages (from docker<7,>=4.0.0->mlflow) (0.58.0)\n",
      "Requirement already satisfied: Werkzeug>=2.3.7 in /usr/local/Caskroom/miniconda/base/envs/DS_Python_conda_env/lib/python3.10/site-packages (from Flask<3->mlflow) (2.3.7)\n",
      "Requirement already satisfied: blinker>=1.6.2 in /usr/local/Caskroom/miniconda/base/envs/DS_Python_conda_env/lib/python3.10/site-packages (from Flask<3->mlflow) (1.6.2)\n",
      "Requirement already satisfied: itsdangerous>=2.1.2 in /usr/local/Caskroom/miniconda/base/envs/DS_Python_conda_env/lib/python3.10/site-packages (from Flask<3->mlflow) (2.1.2)\n",
      "Requirement already satisfied: gitdb<5,>=4.0.1 in /usr/local/Caskroom/miniconda/base/envs/DS_Python_conda_env/lib/python3.10/site-packages (from gitpython<4,>=2.1.0->mlflow) (4.0.10)\n",
      "Requirement already satisfied: zipp>=0.5 in /usr/local/Caskroom/miniconda/base/envs/DS_Python_conda_env/lib/python3.10/site-packages (from importlib-metadata!=4.7.0,<7,>=3.7.0->mlflow) (3.16.2)\n",
      "Requirement already satisfied: MarkupSafe>=2.0 in /usr/local/Caskroom/miniconda/base/envs/DS_Python_conda_env/lib/python3.10/site-packages (from Jinja2<4,>=2.11->mlflow) (2.1.1)\n",
      "Requirement already satisfied: pyparsing>=2.3.1 in /usr/local/Caskroom/miniconda/base/envs/DS_Python_conda_env/lib/python3.10/site-packages (from matplotlib<4->mlflow) (3.0.9)\n",
      "Requirement already satisfied: python-dateutil>=2.7 in /usr/local/Caskroom/miniconda/base/envs/DS_Python_conda_env/lib/python3.10/site-packages (from matplotlib<4->mlflow) (2.8.2)\n",
      "Requirement already satisfied: cycler>=0.10 in /usr/local/Caskroom/miniconda/base/envs/DS_Python_conda_env/lib/python3.10/site-packages (from matplotlib<4->mlflow) (0.11.0)\n",
      "Requirement already satisfied: fonttools>=4.22.0 in /usr/local/Caskroom/miniconda/base/envs/DS_Python_conda_env/lib/python3.10/site-packages (from matplotlib<4->mlflow) (4.25.0)\n",
      "Requirement already satisfied: pillow>=6.2.0 in /usr/local/Caskroom/miniconda/base/envs/DS_Python_conda_env/lib/python3.10/site-packages (from matplotlib<4->mlflow) (9.4.0)\n",
      "Requirement already satisfied: contourpy>=1.0.1 in /usr/local/Caskroom/miniconda/base/envs/DS_Python_conda_env/lib/python3.10/site-packages (from matplotlib<4->mlflow) (1.0.5)\n",
      "Requirement already satisfied: kiwisolver>=1.0.1 in /usr/local/Caskroom/miniconda/base/envs/DS_Python_conda_env/lib/python3.10/site-packages (from matplotlib<4->mlflow) (1.4.4)\n",
      "Requirement already satisfied: charset-normalizer<4,>=2 in /usr/local/Caskroom/miniconda/base/envs/DS_Python_conda_env/lib/python3.10/site-packages (from requests<3,>=2.17.3->mlflow) (2.0.4)\n",
      "Requirement already satisfied: idna<4,>=2.5 in /usr/local/Caskroom/miniconda/base/envs/DS_Python_conda_env/lib/python3.10/site-packages (from requests<3,>=2.17.3->mlflow) (3.4)\n",
      "Requirement already satisfied: certifi>=2017.4.17 in /usr/local/Caskroom/miniconda/base/envs/DS_Python_conda_env/lib/python3.10/site-packages (from requests<3,>=2.17.3->mlflow) (2023.5.7)\n",
      "Requirement already satisfied: threadpoolctl>=2.0.0 in /usr/local/Caskroom/miniconda/base/envs/DS_Python_conda_env/lib/python3.10/site-packages (from scikit-learn<2->mlflow) (2.2.0)\n",
      "Requirement already satisfied: joblib>=1.1.1 in /usr/local/Caskroom/miniconda/base/envs/DS_Python_conda_env/lib/python3.10/site-packages (from scikit-learn<2->mlflow) (1.1.1)\n",
      "Requirement already satisfied: greenlet!=0.4.17 in /usr/local/Caskroom/miniconda/base/envs/DS_Python_conda_env/lib/python3.10/site-packages (from sqlalchemy<3,>=1.4.0->mlflow) (2.0.2)\n",
      "Requirement already satisfied: smmap<6,>=3.0.1 in /usr/local/Caskroom/miniconda/base/envs/DS_Python_conda_env/lib/python3.10/site-packages (from gitdb<5,>=4.0.1->gitpython<4,>=2.1.0->mlflow) (5.0.0)\n",
      "Requirement already satisfied: scikit-learn in /usr/local/Caskroom/miniconda/base/envs/DS_Python_conda_env/lib/python3.10/site-packages (1.2.2)\n",
      "Requirement already satisfied: scipy>=1.3.2 in /usr/local/Caskroom/miniconda/base/envs/DS_Python_conda_env/lib/python3.10/site-packages (from scikit-learn) (1.10.1)\n",
      "Requirement already satisfied: numpy>=1.17.3 in /usr/local/Caskroom/miniconda/base/envs/DS_Python_conda_env/lib/python3.10/site-packages (from scikit-learn) (1.24.3)\n",
      "Requirement already satisfied: joblib>=1.1.1 in /usr/local/Caskroom/miniconda/base/envs/DS_Python_conda_env/lib/python3.10/site-packages (from scikit-learn) (1.1.1)\n",
      "Requirement already satisfied: threadpoolctl>=2.0.0 in /usr/local/Caskroom/miniconda/base/envs/DS_Python_conda_env/lib/python3.10/site-packages (from scikit-learn) (2.2.0)\n",
      "Collecting virtualenv\n",
      "  Downloading virtualenv-20.24.4-py3-none-any.whl (3.7 MB)\n",
      "\u001b[2K     \u001b[38;2;114;156;31m━━━━━━━━━━━━━━━━━━━━━━━━━━━━━━━━━━━━━━━━\u001b[0m \u001b[32m3.7/3.7 MB\u001b[0m \u001b[31m16.7 MB/s\u001b[0m eta \u001b[36m0:00:00\u001b[0mm eta \u001b[36m0:00:01\u001b[0m[36m0:00:01\u001b[0m\n",
      "\u001b[?25hCollecting distlib<1,>=0.3.7\n",
      "  Downloading distlib-0.3.7-py2.py3-none-any.whl (468 kB)\n",
      "\u001b[2K     \u001b[38;2;114;156;31m━━━━━━━━━━━━━━━━━━━━━━━━━━━━━━━━━━━━━━━\u001b[0m \u001b[32m468.9/468.9 kB\u001b[0m \u001b[31m9.5 MB/s\u001b[0m eta \u001b[36m0:00:00\u001b[0m[36m0:00:01\u001b[0m\n",
      "\u001b[?25hCollecting filelock<4,>=3.12.2\n",
      "  Downloading filelock-3.12.3-py3-none-any.whl (11 kB)\n",
      "Collecting platformdirs<4,>=3.9.1\n",
      "  Downloading platformdirs-3.10.0-py3-none-any.whl (17 kB)\n",
      "Collecting typing-extensions>=4.7.1\n",
      "  Downloading typing_extensions-4.7.1-py3-none-any.whl (33 kB)\n",
      "Installing collected packages: distlib, typing-extensions, platformdirs, filelock, virtualenv\n",
      "  Attempting uninstall: typing-extensions\n",
      "    Found existing installation: typing_extensions 4.5.0\n",
      "    Uninstalling typing_extensions-4.5.0:\n",
      "      Successfully uninstalled typing_extensions-4.5.0\n",
      "  Attempting uninstall: platformdirs\n",
      "    Found existing installation: platformdirs 2.5.2\n",
      "    Uninstalling platformdirs-2.5.2:\n",
      "      Successfully uninstalled platformdirs-2.5.2\n",
      "\u001b[31mERROR: pip's dependency resolver does not currently take into account all the packages that are installed. This behaviour is the source of the following dependency conflicts.\n",
      "tensorflow 2.10.0 requires libclang>=13.0.0, which is not installed.\n",
      "tensorflow 2.10.0 requires tensorflow-io-gcs-filesystem>=0.23.1, which is not installed.\n",
      "tensorflow 2.10.0 requires protobuf<3.20,>=3.9.2, but you have protobuf 3.20.3 which is incompatible.\u001b[0m\u001b[31m\n",
      "\u001b[0mSuccessfully installed distlib-0.3.7 filelock-3.12.3 platformdirs-3.10.0 typing-extensions-4.7.1 virtualenv-20.24.4\n"
     ]
    }
   ],
   "source": [
    "!pip install mlflow\n",
    "!pip install scikit-learn\n",
    "!pip install virtualenv"
   ]
  },
  {
   "cell_type": "code",
   "execution_count": null,
   "metadata": {},
   "outputs": [],
   "source": [
    "conda init bash \n",
    "# restart terminal one time\n",
    "conda activate [nameof python dev env]\n",
    "python [call .py]"
   ]
  },
  {
   "cell_type": "code",
   "execution_count": null,
   "metadata": {},
   "outputs": [],
   "source": [
    "mlflow ui #it's call webbased mlflow gui "
   ]
  }
 ],
 "metadata": {
  "kernelspec": {
   "display_name": "DS_Python_conda_env",
   "language": "python",
   "name": "python3"
  },
  "language_info": {
   "codemirror_mode": {
    "name": "ipython",
    "version": 3
   },
   "file_extension": ".py",
   "mimetype": "text/x-python",
   "name": "python",
   "nbconvert_exporter": "python",
   "pygments_lexer": "ipython3",
   "version": "3.10.11"
  },
  "orig_nbformat": 4
 },
 "nbformat": 4,
 "nbformat_minor": 2
}
