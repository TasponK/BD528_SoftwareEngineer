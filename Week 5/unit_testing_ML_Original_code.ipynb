{
  "nbformat": 4,
  "nbformat_minor": 0,
  "metadata": {
    "colab": {
      "provenance": []
    },
    "kernelspec": {
      "name": "python3",
      "display_name": "Python 3"
    },
    "language_info": {
      "name": "python"
    }
  },
  "cells": [
    {
      "cell_type": "code",
      "metadata": {
        "colab": {
          "base_uri": "https://localhost:8080/"
        },
        "id": "pD3mir8PwzTY",
        "outputId": "5b98d613-4c45-4212-bc6d-45b35529a4b4"
      },
      "source": [
        "from sklearn.linear_model import LogisticRegression\n",
        "from sklearn.model_selection import train_test_split\n",
        "from sklearn import datasets\n",
        "import pandas as pd\n",
        "import numpy as np\n",
        "\n",
        "#load data\n",
        "dataset = datasets.load_iris()\n",
        "feature_names = [fn[:-5] for fn in dataset.feature_names]\n",
        "frame = pd.DataFrame(dataset.data, columns=feature_names)\n",
        "frame['target'] = dataset.target\n",
        "X_train, X_test, y_train, y_test = train_test_split(\n",
        "  frame[feature_names], frame.target, random_state=42) #test_size=0.25\n",
        "\n",
        "#build model\n",
        "model = LogisticRegression(solver='lbfgs', multi_class='auto', max_iter=200)\n",
        "model.fit(X_train, y_train)\n",
        "\n",
        "#evaluation\n",
        "print('Train accuracy: ',model.score(X=X_train, y=y_train))\n",
        "print('Test accuracy: ',model.score(X=X_test, y=y_test))"
      ],
      "execution_count": null,
      "outputs": [
        {
          "output_type": "stream",
          "name": "stdout",
          "text": [
            "Train accuracy:  0.9642857142857143\n",
            "Test accuracy:  1.0\n"
          ]
        }
      ]
    },
    {
      "cell_type": "code",
      "source": [
        "Train accuracy:  0.9642857142857143\n",
        "Test accuracy:  1.0"
      ],
      "metadata": {
        "id": "19N4g43yxFlQ"
      },
      "execution_count": null,
      "outputs": []
    },
    {
      "cell_type": "code",
      "metadata": {
        "colab": {
          "base_uri": "https://localhost:8080/"
        },
        "id": "Zr3Heur3ysjr",
        "outputId": "0f921f7f-b6d7-4af9-cd6a-9451eaa3919d"
      },
      "source": [
        "print(X_train.shape)\n",
        "print(X_test.shape)"
      ],
      "execution_count": null,
      "outputs": [
        {
          "output_type": "stream",
          "name": "stdout",
          "text": [
            "(112, 4)\n",
            "(38, 4)\n"
          ]
        }
      ]
    },
    {
      "cell_type": "markdown",
      "metadata": {
        "id": "AWFkpNADCHVr"
      },
      "source": [
        "#Create Model PipeLine"
      ]
    },
    {
      "cell_type": "code",
      "metadata": {
        "id": "S_hexpjipaGp"
      },
      "source": [
        "class SimplePipeline:\n",
        "  def __init__(self):\n",
        "    self.frame = None\n",
        "    self.X_train, self.X_test, self.y_train, self.y_test = None, None, None, None\n",
        "    self.model = None\n",
        "    self.load_dataset()\n",
        "\n",
        "  def load_dataset(self):\n",
        "    dataset = datasets.load_iris()\n",
        "    self.feature_names = [fn[:-5] for fn in dataset.feature_names]\n",
        "    self.frame = pd.DataFrame(dataset.data, columns=feature_names)\n",
        "    self.frame['target'] = dataset.target\n",
        "    self.X_train, self.X_test, self.y_train, self.y_test = train_test_split(\n",
        "        frame[feature_names], frame.target, random_state=42) #test_size=0.25\n",
        "\n",
        "  def run_pipeline(sel\n",
        "  'f):\n",
        "    self.load_dataset()\n",
        "    #self.normalization()\n",
        "    self.train()\n",
        "\n",
        "  def train(self):\n",
        "    self.model = LogisticRegression(solver='lbfgs', multi_class='auto', max_iter=200)\n",
        "    self.model.fit(self.X_train, self.y_train)\n",
        "\n",
        "  def get_accuracy(self):\n",
        "    #print('Train accuracy: ',self.model.score(X=self.X_train, y=self.y_train))\n",
        "    #print('Test accuracy: ', self.model.score(X=self.X_test, y=self.y_test))\n",
        "    return self.model.score(X=self.X_test, y=self.y_test)\n",
        "\n",
        "  def predict(self, input_data):\n",
        "    return self.model.predict(input_data)\n"
      ],
      "execution_count": null,
      "outputs": []
    },
    {
      "cell_type": "code",
      "metadata": {
        "colab": {
          "base_uri": "https://localhost:8080/"
        },
        "id": "YgzRRd97C-Bb",
        "outputId": "e687c44b-fb3c-4b6d-b9cc-a9c716ce973a"
      },
      "source": [
        "pipeline = SimplePipeline()\n",
        "pipeline.run_pipeline()\n",
        "pipeline.get_accuracy()"
      ],
      "execution_count": null,
      "outputs": [
        {
          "output_type": "execute_result",
          "data": {
            "text/plain": [
              "1.0"
            ]
          },
          "metadata": {},
          "execution_count": 4
        }
      ]
    },
    {
      "cell_type": "markdown",
      "metadata": {
        "id": "Il7xU72fGcnx"
      },
      "source": [
        "#Unit Testing ML Model\n",
        "** Unit testing -- inputs **"
      ]
    },
    {
      "cell_type": "code",
      "metadata": {
        "colab": {
          "base_uri": "https://localhost:8080/",
          "height": 300
        },
        "id": "kwQc5NDEDRl8",
        "outputId": "4c60c241-f399-4ba0-8dde-918b231f56e3"
      },
      "source": [
        "pipeline.frame.describe()"
      ],
      "execution_count": null,
      "outputs": [
        {
          "output_type": "execute_result",
          "data": {
            "text/plain": [
              "       sepal length  sepal width  petal length  petal width      target\n",
              "count    150.000000   150.000000    150.000000   150.000000  150.000000\n",
              "mean       5.843333     3.057333      3.758000     1.199333    1.000000\n",
              "std        0.828066     0.435866      1.765298     0.762238    0.819232\n",
              "min        4.300000     2.000000      1.000000     0.100000    0.000000\n",
              "25%        5.100000     2.800000      1.600000     0.300000    0.000000\n",
              "50%        5.800000     3.000000      4.350000     1.300000    1.000000\n",
              "75%        6.400000     3.300000      5.100000     1.800000    2.000000\n",
              "max        7.900000     4.400000      6.900000     2.500000    2.000000"
            ],
            "text/html": [
              "\n",
              "  <div id=\"df-d4a26f70-6699-4d6c-951b-f86a8bd72db8\">\n",
              "    <div class=\"colab-df-container\">\n",
              "      <div>\n",
              "<style scoped>\n",
              "    .dataframe tbody tr th:only-of-type {\n",
              "        vertical-align: middle;\n",
              "    }\n",
              "\n",
              "    .dataframe tbody tr th {\n",
              "        vertical-align: top;\n",
              "    }\n",
              "\n",
              "    .dataframe thead th {\n",
              "        text-align: right;\n",
              "    }\n",
              "</style>\n",
              "<table border=\"1\" class=\"dataframe\">\n",
              "  <thead>\n",
              "    <tr style=\"text-align: right;\">\n",
              "      <th></th>\n",
              "      <th>sepal length</th>\n",
              "      <th>sepal width</th>\n",
              "      <th>petal length</th>\n",
              "      <th>petal width</th>\n",
              "      <th>target</th>\n",
              "    </tr>\n",
              "  </thead>\n",
              "  <tbody>\n",
              "    <tr>\n",
              "      <th>count</th>\n",
              "      <td>150.000000</td>\n",
              "      <td>150.000000</td>\n",
              "      <td>150.000000</td>\n",
              "      <td>150.000000</td>\n",
              "      <td>150.000000</td>\n",
              "    </tr>\n",
              "    <tr>\n",
              "      <th>mean</th>\n",
              "      <td>5.843333</td>\n",
              "      <td>3.057333</td>\n",
              "      <td>3.758000</td>\n",
              "      <td>1.199333</td>\n",
              "      <td>1.000000</td>\n",
              "    </tr>\n",
              "    <tr>\n",
              "      <th>std</th>\n",
              "      <td>0.828066</td>\n",
              "      <td>0.435866</td>\n",
              "      <td>1.765298</td>\n",
              "      <td>0.762238</td>\n",
              "      <td>0.819232</td>\n",
              "    </tr>\n",
              "    <tr>\n",
              "      <th>min</th>\n",
              "      <td>4.300000</td>\n",
              "      <td>2.000000</td>\n",
              "      <td>1.000000</td>\n",
              "      <td>0.100000</td>\n",
              "      <td>0.000000</td>\n",
              "    </tr>\n",
              "    <tr>\n",
              "      <th>25%</th>\n",
              "      <td>5.100000</td>\n",
              "      <td>2.800000</td>\n",
              "      <td>1.600000</td>\n",
              "      <td>0.300000</td>\n",
              "      <td>0.000000</td>\n",
              "    </tr>\n",
              "    <tr>\n",
              "      <th>50%</th>\n",
              "      <td>5.800000</td>\n",
              "      <td>3.000000</td>\n",
              "      <td>4.350000</td>\n",
              "      <td>1.300000</td>\n",
              "      <td>1.000000</td>\n",
              "    </tr>\n",
              "    <tr>\n",
              "      <th>75%</th>\n",
              "      <td>6.400000</td>\n",
              "      <td>3.300000</td>\n",
              "      <td>5.100000</td>\n",
              "      <td>1.800000</td>\n",
              "      <td>2.000000</td>\n",
              "    </tr>\n",
              "    <tr>\n",
              "      <th>max</th>\n",
              "      <td>7.900000</td>\n",
              "      <td>4.400000</td>\n",
              "      <td>6.900000</td>\n",
              "      <td>2.500000</td>\n",
              "      <td>2.000000</td>\n",
              "    </tr>\n",
              "  </tbody>\n",
              "</table>\n",
              "</div>\n",
              "      <button class=\"colab-df-convert\" onclick=\"convertToInteractive('df-d4a26f70-6699-4d6c-951b-f86a8bd72db8')\"\n",
              "              title=\"Convert this dataframe to an interactive table.\"\n",
              "              style=\"display:none;\">\n",
              "        \n",
              "  <svg xmlns=\"http://www.w3.org/2000/svg\" height=\"24px\"viewBox=\"0 0 24 24\"\n",
              "       width=\"24px\">\n",
              "    <path d=\"M0 0h24v24H0V0z\" fill=\"none\"/>\n",
              "    <path d=\"M18.56 5.44l.94 2.06.94-2.06 2.06-.94-2.06-.94-.94-2.06-.94 2.06-2.06.94zm-11 1L8.5 8.5l.94-2.06 2.06-.94-2.06-.94L8.5 2.5l-.94 2.06-2.06.94zm10 10l.94 2.06.94-2.06 2.06-.94-2.06-.94-.94-2.06-.94 2.06-2.06.94z\"/><path d=\"M17.41 7.96l-1.37-1.37c-.4-.4-.92-.59-1.43-.59-.52 0-1.04.2-1.43.59L10.3 9.45l-7.72 7.72c-.78.78-.78 2.05 0 2.83L4 21.41c.39.39.9.59 1.41.59.51 0 1.02-.2 1.41-.59l7.78-7.78 2.81-2.81c.8-.78.8-2.07 0-2.86zM5.41 20L4 18.59l7.72-7.72 1.47 1.35L5.41 20z\"/>\n",
              "  </svg>\n",
              "      </button>\n",
              "      \n",
              "  <style>\n",
              "    .colab-df-container {\n",
              "      display:flex;\n",
              "      flex-wrap:wrap;\n",
              "      gap: 12px;\n",
              "    }\n",
              "\n",
              "    .colab-df-convert {\n",
              "      background-color: #E8F0FE;\n",
              "      border: none;\n",
              "      border-radius: 50%;\n",
              "      cursor: pointer;\n",
              "      display: none;\n",
              "      fill: #1967D2;\n",
              "      height: 32px;\n",
              "      padding: 0 0 0 0;\n",
              "      width: 32px;\n",
              "    }\n",
              "\n",
              "    .colab-df-convert:hover {\n",
              "      background-color: #E2EBFA;\n",
              "      box-shadow: 0px 1px 2px rgba(60, 64, 67, 0.3), 0px 1px 3px 1px rgba(60, 64, 67, 0.15);\n",
              "      fill: #174EA6;\n",
              "    }\n",
              "\n",
              "    [theme=dark] .colab-df-convert {\n",
              "      background-color: #3B4455;\n",
              "      fill: #D2E3FC;\n",
              "    }\n",
              "\n",
              "    [theme=dark] .colab-df-convert:hover {\n",
              "      background-color: #434B5C;\n",
              "      box-shadow: 0px 1px 3px 1px rgba(0, 0, 0, 0.15);\n",
              "      filter: drop-shadow(0px 1px 2px rgba(0, 0, 0, 0.3));\n",
              "      fill: #FFFFFF;\n",
              "    }\n",
              "  </style>\n",
              "\n",
              "      <script>\n",
              "        const buttonEl =\n",
              "          document.querySelector('#df-d4a26f70-6699-4d6c-951b-f86a8bd72db8 button.colab-df-convert');\n",
              "        buttonEl.style.display =\n",
              "          google.colab.kernel.accessAllowed ? 'block' : 'none';\n",
              "\n",
              "        async function convertToInteractive(key) {\n",
              "          const element = document.querySelector('#df-d4a26f70-6699-4d6c-951b-f86a8bd72db8');\n",
              "          const dataTable =\n",
              "            await google.colab.kernel.invokeFunction('convertToInteractive',\n",
              "                                                     [key], {});\n",
              "          if (!dataTable) return;\n",
              "\n",
              "          const docLinkHtml = 'Like what you see? Visit the ' +\n",
              "            '<a target=\"_blank\" href=https://colab.research.google.com/notebooks/data_table.ipynb>data table notebook</a>'\n",
              "            + ' to learn more about interactive tables.';\n",
              "          element.innerHTML = '';\n",
              "          dataTable['output_type'] = 'display_data';\n",
              "          await google.colab.output.renderOutput(dataTable, element);\n",
              "          const docLink = document.createElement('div');\n",
              "          docLink.innerHTML = docLinkHtml;\n",
              "          element.appendChild(docLink);\n",
              "        }\n",
              "      </script>\n",
              "    </div>\n",
              "  </div>\n",
              "  "
            ]
          },
          "metadata": {},
          "execution_count": 5
        }
      ]
    },
    {
      "cell_type": "code",
      "metadata": {
        "id": "rfbp7geDGtW3"
      },
      "source": [
        "iris_schema = {\n",
        "    'sepal length': {\n",
        "        'range': {\n",
        "            'min': 4.0,\n",
        "            'max': 8.0\n",
        "        },\n",
        "        'dtype': float,\n",
        "    },\n",
        "    'sepal width': {\n",
        "        'range': {\n",
        "            'min': 2.0,\n",
        "            'max': 5.0\n",
        "        },\n",
        "        'dtype': float,\n",
        "    },\n",
        "    'petal length': {\n",
        "        'range': {\n",
        "            'min': 1.0,\n",
        "            'max': 7.0\n",
        "        },\n",
        "        'dtype': float,\n",
        "    },\n",
        "    'petal width': {\n",
        "        'range': {\n",
        "            'min': 0.1,\n",
        "            'max': 3.0\n",
        "        },\n",
        "        'dtype': float,\n",
        "    }\n",
        "}"
      ],
      "execution_count": null,
      "outputs": []
    },
    {
      "cell_type": "code",
      "metadata": {
        "id": "T7KlB9XuH9ET"
      },
      "source": [
        "import unittest\n",
        "import sys\n",
        "\n",
        "class TestIrisInputData(unittest.TestCase):\n",
        "    def setUp(self):\n",
        "      self.pipeline = SimplePipeline()\n",
        "      self.pipeline.run_pipeline()\n",
        "\n",
        "    def test_input_data_range(self):\n",
        "      max_values = self.pipeline.frame.max()\n",
        "      min_values = self.pipeline.frame.min()\n",
        "      for feature in self.pipeline.feature_names:\n",
        "        self.assertTrue(max_values[feature] <= iris_schema[feature]['range']['max'],\n",
        "                        feature + \"[Max] >= \" + str(iris_schema[feature]['range']['max']))\n",
        "        self.assertTrue(min_values[feature] >= iris_schema[feature]['range']['min'],\n",
        "                        feature + \"[Min] <= \" + str(iris_schema[feature]['range']['min']))\n",
        "\n",
        "    def test_input_data_types(self):\n",
        "      data_types = self.pipeline.frame.dtypes\n",
        "\n",
        "      for feature in self.pipeline.feature_names:\n",
        "        self.assertEqual(data_types[feature], iris_schema[feature]['dtype'])\n",
        "\n"
      ],
      "execution_count": null,
      "outputs": []
    },
    {
      "cell_type": "code",
      "metadata": {
        "colab": {
          "base_uri": "https://localhost:8080/"
        },
        "id": "ZNH-cbPmJv7B",
        "outputId": "148f5383-f33f-47a0-b677-c6420045da23"
      },
      "source": [
        "suite = unittest.TestLoader().loadTestsFromTestCase(TestIrisInputData)\n",
        "unittest.TextTestRunner(verbosity=1, stream=sys.stderr).run(suite)"
      ],
      "execution_count": null,
      "outputs": [
        {
          "output_type": "stream",
          "name": "stderr",
          "text": [
            "..\n",
            "----------------------------------------------------------------------\n",
            "Ran 2 tests in 0.097s\n",
            "\n",
            "OK\n"
          ]
        },
        {
          "output_type": "execute_result",
          "data": {
            "text/plain": [
              "<unittest.runner.TextTestResult run=2 errors=0 failures=0>"
            ]
          },
          "metadata": {},
          "execution_count": 26
        }
      ]
    },
    {
      "cell_type": "markdown",
      "metadata": {
        "id": "E3EawBSENCjl"
      },
      "source": [
        "\n",
        "\n",
        "```\n",
        "# This is formatted as code\n",
        "```\n",
        "\n",
        "**Unit test -- Model Config\n",
        "\n",
        "```\n",
        "# This is formatted as code\n",
        "```\n",
        "\n",
        "**"
      ]
    },
    {
      "cell_type": "code",
      "metadata": {
        "id": "3O-Z3GdNKLJt"
      },
      "source": [
        "class PipelineWithConfig(SimplePipeline):\n",
        "  def __init__(self, config):\n",
        "    super().__init__()\n",
        "    self.config = config\n",
        "\n",
        "  def train(self):\n",
        "    self.model = LogisticRegression(solver=self.config.get('solver'),\n",
        "                                    multi_class=self.config.get('multi_class'),\n",
        "                                    max_iter=self.config.get('max_iter'))\n",
        "    self.model.fit(self.X_train, self.y_train)\n",
        "\n",
        "  #def get_accuracy(self):\n",
        "  #  return self.model.score(X=self.X_test, y=self.y_test)"
      ],
      "execution_count": null,
      "outputs": []
    },
    {
      "cell_type": "code",
      "metadata": {
        "colab": {
          "base_uri": "https://localhost:8080/"
        },
        "id": "l2rxsBaiObqn",
        "outputId": "eb910edc-f64c-4603-f2ab-20fbe84cefab"
      },
      "source": [
        "config = {'solver': 'lbfgs', 'multi_class': 'auto','max_iter': 200}\n",
        "pipeline2 = PipelineWithConfig(config)\n",
        "pipeline2.run_pipeline()\n",
        "print('Test Accuracy:', pipeline2.get_accuracy())"
      ],
      "execution_count": null,
      "outputs": [
        {
          "output_type": "stream",
          "name": "stdout",
          "text": [
            "Test Accuracy: 1.0\n"
          ]
        }
      ]
    },
    {
      "cell_type": "code",
      "metadata": {
        "id": "o0ZUKFPoOveQ"
      },
      "source": [
        "ENABLED_MODEL_SOLVERS = {'lbfgs', 'newton-cg'}\n",
        "\n",
        "class TestIrisConfig(unittest.TestCase):\n",
        "  def setUp(self):\n",
        "    config = test_config #{'solver': 'newton-cg', 'multi_class': 'auto','max_iter': 200}\n",
        "    self.pipeline = PipelineWithConfig(config)\n",
        "    self.pipeline.run_pipeline()\n",
        "\n",
        "  def test_pipeline_config(self):\n",
        "    model_params = self.pipeline.model.get_params()\n",
        "    self.assertTrue(model_params['solver'] in ENABLED_MODEL_SOLVERS, model_params['solver'] + \" incorrect parameter\" )"
      ],
      "execution_count": null,
      "outputs": []
    },
    {
      "cell_type": "code",
      "metadata": {
        "colab": {
          "base_uri": "https://localhost:8080/"
        },
        "id": "swqqPUDSQhRS",
        "outputId": "95f5184f-5e5a-4bb9-a31c-f6bf4030348f"
      },
      "source": [
        "test_config={'solver': 'saga', 'multi_class': 'auto','max_iter': 200}\n",
        "suite = unittest.TestLoader().loadTestsFromTestCase(TestIrisConfig)\n",
        "unittest.TextTestRunner(verbosity=1, stream=sys.stderr).run(suite)"
      ],
      "execution_count": null,
      "outputs": [
        {
          "output_type": "stream",
          "name": "stderr",
          "text": [
            "/usr/local/lib/python3.7/dist-packages/sklearn/linear_model/_sag.py:354: ConvergenceWarning: The max_iter was reached which means the coef_ did not converge\n",
            "  ConvergenceWarning,\n",
            "F\n",
            "======================================================================\n",
            "FAIL: test_pipeline_config (__main__.TestIrisConfig)\n",
            "----------------------------------------------------------------------\n",
            "Traceback (most recent call last):\n",
            "  File \"<ipython-input-34-6863462ff384>\", line 11, in test_pipeline_config\n",
            "    self.assertTrue(model_params['solver'] in ENABLED_MODEL_SOLVERS, model_params['solver'] + \" incorrect parameter\" )\n",
            "AssertionError: False is not true : saga incorrect parameter\n",
            "\n",
            "----------------------------------------------------------------------\n",
            "Ran 1 test in 0.031s\n",
            "\n",
            "FAILED (failures=1)\n"
          ]
        },
        {
          "output_type": "execute_result",
          "data": {
            "text/plain": [
              "<unittest.runner.TextTestResult run=1 errors=0 failures=1>"
            ]
          },
          "metadata": {},
          "execution_count": 36
        }
      ]
    },
    {
      "cell_type": "code",
      "metadata": {
        "id": "uIBEL-KIQoaT"
      },
      "source": [
        "from sklearn.preprocessing import StandardScaler\n",
        "\n",
        "class PipelineWithDataEngineering(SimplePipeline):\n",
        "    def __init__(self):\n",
        "        super().__init__()\n",
        "        self.scaler = StandardScaler()\n",
        "        self.scaler.fit(self.X_train)\n",
        "\n",
        "    def apply_scaler(self):\n",
        "        self.X_train = self.scaler.transform(self.X_train)\n",
        "        self.X_test = self.scaler.transform(self.X_test)\n",
        "\n",
        "    def predict(self, input_data):\n",
        "        scaled_input_data = self.scaler.transform(input_data)\n",
        "        return self.model.predict(scaled_input_data)\n",
        "\n",
        "    def run_pipeline(self):\n",
        "        self.load_dataset()\n",
        "        self.apply_scaler()  # updated in the this class\n",
        "        self.train()"
      ],
      "execution_count": null,
      "outputs": []
    },
    {
      "cell_type": "code",
      "metadata": {
        "id": "xM2m_e5ISFjj"
      },
      "source": [
        "import unittest\n",
        "from sklearn.metrics import mean_squared_error, accuracy_score\n",
        "\n",
        "class TestIrisPredictions(unittest.TestCase):\n",
        "    def setUp(self):\n",
        "        self.pipeline_v1 = SimplePipeline()\n",
        "        self.pipeline_v2 = PipelineWithDataEngineering()\n",
        "        self.pipeline_v1.run_pipeline()\n",
        "        self.pipeline_v2.run_pipeline()\n",
        "        self.benchmark_predictions = [1.0] * len(self.pipeline_v1.y_test)\n",
        "\n",
        "    def test_accuracy_higher_than_benchmark(self):\n",
        "        benchmark_accuracy = accuracy_score(\n",
        "            y_true=self.pipeline_v1.y_test,\n",
        "            y_pred=self.benchmark_predictions)\n",
        "\n",
        "        predictions = self.pipeline_v1.predict(self.pipeline_v1.X_test)\n",
        "\n",
        "        actual_accuracy = accuracy_score(\n",
        "            y_true=self.pipeline_v2.y_test,\n",
        "            y_pred=predictions)\n",
        "\n",
        "        print(f'model accuracy: {actual_accuracy}, benchmark accuracy: {benchmark_accuracy}')\n",
        "        self.assertTrue(actual_accuracy > benchmark_accuracy)\n",
        "\n",
        "    def test_accuracy_compared_to_previous_version(self):\n",
        "        v1_accuracy = self.pipeline_v1.get_accuracy()\n",
        "        v2_accuracy = self.pipeline_v2.get_accuracy()\n",
        "        print(f'pipeline v1 accuracy: {v1_accuracy}')\n",
        "        print(f'pipeline v2 (with normalization) accuracy: {v2_accuracy}')\n",
        "\n",
        "        self.assertTrue(v2_accuracy >= v1_accuracy)"
      ],
      "execution_count": null,
      "outputs": []
    },
    {
      "cell_type": "code",
      "metadata": {
        "colab": {
          "base_uri": "https://localhost:8080/"
        },
        "id": "Jg3iCr4QTdGT",
        "outputId": "00fb6abe-0cea-43cf-fb12-39084fde8bba"
      },
      "source": [
        "suite = unittest.TestLoader().loadTestsFromTestCase(TestIrisPredictions)\n",
        "unittest.TextTestRunner(verbosity=1, stream=sys.stderr).run(suite)"
      ],
      "execution_count": null,
      "outputs": [
        {
          "output_type": "stream",
          "name": "stderr",
          "text": [
            ".."
          ]
        },
        {
          "output_type": "stream",
          "name": "stdout",
          "text": [
            "pipeline v1 accuracy: 1.0\n",
            "pipeline v2 (with normalization) accuracy: 1.0\n",
            "model accuracy: 1.0, benchmark accuracy: 0.2894736842105263\n"
          ]
        },
        {
          "output_type": "stream",
          "name": "stderr",
          "text": [
            "\n",
            "----------------------------------------------------------------------\n",
            "Ran 2 tests in 0.134s\n",
            "\n",
            "OK\n"
          ]
        },
        {
          "output_type": "execute_result",
          "data": {
            "text/plain": [
              "<unittest.runner.TextTestResult run=2 errors=0 failures=0>"
            ]
          },
          "metadata": {},
          "execution_count": 42
        }
      ]
    },
    {
      "cell_type": "code",
      "metadata": {
        "id": "-7LwjvfETnxx"
      },
      "source": [],
      "execution_count": null,
      "outputs": []
    }
  ]
}